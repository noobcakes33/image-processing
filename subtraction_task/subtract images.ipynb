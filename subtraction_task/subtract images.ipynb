{
 "cells": [
  {
   "cell_type": "code",
   "execution_count": 1,
   "metadata": {},
   "outputs": [],
   "source": [
    "import numpy as np\n",
    "import cv2"
   ]
  },
  {
   "cell_type": "code",
   "execution_count": 11,
   "metadata": {},
   "outputs": [],
   "source": [
    "def subtract2imgs(image1, image2):\n",
    "    \n",
    "    img1 = cv2.imread(image1, cv2.IMREAD_GRAYSCALE).astype(np.float)\n",
    "    img2 = cv2.imread(image2, cv2.IMREAD_GRAYSCALE).astype(np.float)\n",
    "    \n",
    "    if img1.shape == img2.shape:\n",
    "        subtraction = img1 - img2\n",
    "        return subtraction\n",
    "    \n",
    "    else:\n",
    "        print(\"2 images of different sizes\")\n",
    "        return None"
   ]
  },
  {
   "cell_type": "code",
   "execution_count": 14,
   "metadata": {},
   "outputs": [
    {
     "data": {
      "text/plain": [
       "True"
      ]
     },
     "execution_count": 14,
     "metadata": {},
     "output_type": "execute_result"
    }
   ],
   "source": [
    "image1 = 'lena256_PGM.pgm'\n",
    "image2 = 'lena256 with block 2.pgm'\n",
    "output = subtract2imgs(image1, image2)\n",
    "cv2.imwrite(\"subtraction_output.png\", output)"
   ]
  },
  {
   "cell_type": "code",
   "execution_count": null,
   "metadata": {},
   "outputs": [],
   "source": []
  }
 ],
 "metadata": {
  "kernelspec": {
   "display_name": "Python 3",
   "language": "python",
   "name": "python3"
  },
  "language_info": {
   "codemirror_mode": {
    "name": "ipython",
    "version": 3
   },
   "file_extension": ".py",
   "mimetype": "text/x-python",
   "name": "python",
   "nbconvert_exporter": "python",
   "pygments_lexer": "ipython3",
   "version": "3.6.8"
  }
 },
 "nbformat": 4,
 "nbformat_minor": 2
}
