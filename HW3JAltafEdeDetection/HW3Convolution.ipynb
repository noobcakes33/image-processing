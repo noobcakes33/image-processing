{
 "cells": [
  {
   "cell_type": "code",
   "execution_count": 1,
   "metadata": {},
   "outputs": [],
   "source": [
    "import numpy as np\n",
    "import cv2"
   ]
  },
  {
   "cell_type": "markdown",
   "metadata": {},
   "source": [
    "## Edge Detection"
   ]
  },
  {
   "cell_type": "code",
   "execution_count": 3,
   "metadata": {},
   "outputs": [],
   "source": [
    "def convolve2d(image, kernel):\n",
    "    kernel = np.flipud(np.fliplr(kernel))    \n",
    "    output = np.zeros_like(image)\n",
    "    image_padded = np.zeros((image.shape[0] + 2, image.shape[1] + 2))   \n",
    "    image_padded[1:-1, 1:-1] = image\n",
    "    for x in range(image.shape[1]):     \n",
    "        for y in range(image.shape[0]):\n",
    "            output[y,x]=(kernel*image_padded[y:y+3,x:x+3]).sum()        \n",
    "    return output"
   ]
  },
  {
   "cell_type": "code",
   "execution_count": 5,
   "metadata": {},
   "outputs": [
    {
     "data": {
      "text/plain": [
       "True"
      ]
     },
     "execution_count": 5,
     "metadata": {},
     "output_type": "execute_result"
    }
   ],
   "source": [
    "img = cv2.imread('lena256_PGM.pgm', cv2.IMREAD_GRAYSCALE).astype(np.float)\n",
    "kernel = np.array([0, -1, 0, -1, 5, -1, 0, -1, 0]).reshape((3, 3, 1))\n",
    "\n",
    "output = convolve2d(img, kernel)\n",
    "cv2.imwrite(\"edge_detection_out.png\", output)"
   ]
  },
  {
   "cell_type": "code",
   "execution_count": null,
   "metadata": {},
   "outputs": [],
   "source": []
  }
 ],
 "metadata": {
  "kernelspec": {
   "display_name": "Python 3",
   "language": "python",
   "name": "python3"
  },
  "language_info": {
   "codemirror_mode": {
    "name": "ipython",
    "version": 3
   },
   "file_extension": ".py",
   "mimetype": "text/x-python",
   "name": "python",
   "nbconvert_exporter": "python",
   "pygments_lexer": "ipython3",
   "version": "3.7.3"
  }
 },
 "nbformat": 4,
 "nbformat_minor": 2
}
